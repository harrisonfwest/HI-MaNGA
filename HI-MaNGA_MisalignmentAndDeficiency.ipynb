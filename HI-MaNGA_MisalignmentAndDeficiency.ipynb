{
 "cells": [
  {
   "cell_type": "code",
   "id": "initial_id",
   "metadata": {},
   "source": [
    "import numpy as np\n",
    "from astropy.io import fits\n",
    "from astropy.table import Table\n",
    "import scipy\n",
    "import matplotlib.pyplot as plt\n",
    "from survival_analysis import setup, ats_fit, kaplan_meier"
   ],
   "outputs": [],
   "execution_count": null
  },
  {
   "cell_type": "code",
   "id": "bb964f9050fdecd2",
   "metadata": {},
   "source": [
    "hdul = fits.open(\"Data/HI-MaNGA_with_MA.fits\")\n",
    "dataTable = Table(hdul[1].data)\n",
    "dataTable # to see if it worked, we will print out the table"
   ],
   "outputs": [],
   "execution_count": null
  },
  {
   "metadata": {},
   "cell_type": "code",
   "source": [
    "'''\n",
    "Let's get a list of all of the columns, since it may be hard to refer to them just from looking at the cell output:\n",
    "'''\n",
    "columnNames = []\n",
    "for column in dataTable.columns:\n",
    "    columnNames.append(column)\n",
    "print(columnNames)"
   ],
   "id": "6c45e83d6b22e176",
   "outputs": [],
   "execution_count": null
  },
  {
   "metadata": {},
   "cell_type": "markdown",
   "source": "Let's first visualize the data by plotting all galaxies' positions, just to make sure everything is going smoothly so far. As we saw above, there are 6938 galaxies in the file now, though not all of them have data for all of their parameters.",
   "id": "d1b21d2c5fc1717a"
  },
  {
   "metadata": {},
   "cell_type": "code",
   "source": [
    "plot = plt.scatter(dataTable['OBJRA'], dataTable['OBJDEC'], c = dataTable['VOPT'], cmap = 'winter', s=1)\n",
    "plt.colorbar(plot, label = 'Velocity (~z)')\n",
    "plt.xlabel('Right Ascension (deg)')\n",
    "plt.ylabel('Declination (deg)')\n",
    "plt.show()"
   ],
   "id": "9ce889f9b4a26b43",
   "outputs": [],
   "execution_count": null
  },
  {
   "metadata": {},
   "cell_type": "markdown",
   "source": "Now we can start looking at the relevant data; the position angles of the gas and stellar disks, and the HI deficiencies of the galaxies. First, lets just plot the galaxies' masses of gas as a function of stellar mass.",
   "id": "c70403f7c20a1193"
  },
  {
   "metadata": {},
   "cell_type": "code",
   "source": [
    "plt.scatter(dataTable['LOGMHI'], dataTable['LOGMSTARS'])\n",
    "plt.xlabel('Log stellar mass')\n",
    "plt.ylabel('Log HI mass');"
   ],
   "id": "28cdf9c02ede85aa",
   "outputs": [],
   "execution_count": null
  },
  {
   "metadata": {},
   "cell_type": "markdown",
   "source": "Hmm... it looks like we have outliers. Non-detections are recorded as having values of -999, so we need to make sure we select the right data points. Let's make arrays that select for the useful data.",
   "id": "cc2da020d82ebc6"
  },
  {
   "metadata": {},
   "cell_type": "code",
   "source": [
    "allGalStellarMass = []\n",
    "allGalGasMass = []\n",
    "for gal in dataTable:\n",
    "    if gal['LOGMSTARS'] > 0 and max(gal['LOGMHI'], gal['LOGHILIM200KMS']) > 0:\n",
    "        allGalStellarMass.append(gal['LOGMSTARS'])\n",
    "        allGalGasMass.append(max(gal['LOGMHI'], gal['LOGHILIM200KMS']))"
   ],
   "id": "7ecd1d27c4c5886d",
   "outputs": [],
   "execution_count": null
  },
  {
   "metadata": {},
   "cell_type": "code",
   "source": [
    "plt.scatter(allGalStellarMass, allGalGasMass, s=1)\n",
    "plt.xlabel('Log $M_*$')\n",
    "plt.ylabel('Log $M_{HI}$');"
   ],
   "id": "37b726573ece0539",
   "outputs": [],
   "execution_count": null
  },
  {
   "metadata": {},
   "cell_type": "markdown",
   "source": "Good! We've removed our non-detection outliers (though we've just assumed that our non-detection upper limits for HI mass are true values, which isn't quite right. We'll have to account for that later with statistical methods, i.e. survival analysis). Now, let's revise this data to represent mass fraction, the log of the ratio of gas mass to stellar mass",
   "id": "4792492f6f09aaca"
  },
  {
   "metadata": {},
   "cell_type": "code",
   "source": [
    "allGalMassFraction = [0]*len(allGalStellarMass)\n",
    "for i in range(len(allGalStellarMass)):\n",
    "    allGalMassFraction[i] = allGalGasMass[i] - allGalStellarMass[i]"
   ],
   "id": "215a1ff32b4051fb",
   "outputs": [],
   "execution_count": null
  },
  {
   "metadata": {},
   "cell_type": "code",
   "source": [
    "plt.xlabel('Log $M_*$')\n",
    "plt.ylabel('Log $(M_{HI}/M_*)$')\n",
    "plt.scatter(allGalStellarMass, allGalMassFraction, s=1);"
   ],
   "id": "d6ef97289f1f4df3",
   "outputs": [],
   "execution_count": null
  },
  {
   "metadata": {},
   "cell_type": "markdown",
   "source": "We'll also change the bounds of the plot to exclude the one point far from the rest of the data (in the top left corner), which will allow us to improve the readability of the plot without skewing the data (though we should keep in mind that some data is not being shown).",
   "id": "328348a18c3c2d51"
  },
  {
   "metadata": {},
   "cell_type": "code",
   "source": [
    "plt.figure(figsize=(18, 12))\n",
    "plt.xlim(7, 11.75)\n",
    "plt.ylim(-2.5, 2)\n",
    "plt.xlabel('Log $M_*$', fontsize=18)\n",
    "plt.ylabel('Log $(M_{HI}/M_*)$', fontsize=18)\n",
    "plt.title('Mass fraction vs. Stellar mass')\n",
    "plt.scatter(allGalStellarMass, allGalMassFraction, s=1, color='orange');"
   ],
   "id": "f57ef6dc866701b3",
   "outputs": [],
   "execution_count": null
  },
  {
   "metadata": {},
   "cell_type": "markdown",
   "source": "Our data is becoming quite readable, and we have shown a general trend in galaxies that galaxies with greater stellar masses have lower mass fractions. What we want, however, is to compare the mass fractions of the well-aligned galaxies (that is, small differences in position angles between their discs) to the misaligned galaxies (larger differences in position angles). Therefore, lets make arrays for these more specific categories:",
   "id": "27fc8a712f3235fc"
  },
  {
   "metadata": {},
   "cell_type": "code",
   "source": [
    "alignedMStars = []\n",
    "alignedMFrac = []\n",
    "MAMStars = [] #MA meaning 'misaligned'\n",
    "MAMFrac =[]\n",
    "for gal in dataTable:\n",
    "    if gal['LOGMSTARS'] > 0 and max(gal['LOGMHI'], gal['LOGHILIM200KMS']) > 0 and gal['plateifu_2'] == '': # the misaligned galaxies will have values for this column, which was taken from the fits image of just misaligned galaxies, while the aligned galaxies will not\n",
    "        alignedMStars.append(gal['LOGMSTARS'])\n",
    "        alignedMFrac.append(max(gal['LOGMHI'], gal['LOGHILIM200KMS']) - gal['LOGMSTARS'])\n",
    "    if gal['LOGMSTARS'] > 0 and max(gal['LOGMHI'], gal['LOGHILIM200KMS']) > 0 and gal['plateifu_2'] != '':\n",
    "        MAMStars.append(gal['LOGMSTARS'])\n",
    "        MAMFrac.append(max(gal['LOGMHI'], gal['LOGHILIM200KMS']) - gal['LOGMSTARS'])"
   ],
   "id": "3c9f9796c3a20b6",
   "outputs": [],
   "execution_count": null
  },
  {
   "metadata": {},
   "cell_type": "code",
   "source": [
    "plt.figure(figsize=(18, 12))\n",
    "plt.xlim(7, 11.75)\n",
    "plt.ylim(-2.5, 2)\n",
    "plt.xlabel('Log $M_*$', fontsize=18)\n",
    "plt.ylabel('Log $(M_{HI}/M_*)$', fontsize=18)\n",
    "plt.scatter(alignedMStars, alignedMFrac, s=1)\n",
    "plt.scatter(MAMStars, MAMFrac, s=3);"
   ],
   "id": "22b4c6787ea71c64",
   "outputs": [],
   "execution_count": null
  },
  {
   "metadata": {},
   "cell_type": "markdown",
   "source": "Great! We've picked out the points that correspond to misaligned galaxies from those corresponding to well-aligned galaxies. To make this analysis more qualitative, let's fit trends to each set of data.",
   "id": "7a48a77ac1186313"
  },
  {
   "metadata": {},
   "cell_type": "code",
   "source": [
    "WAlinFit = np.polyfit(alignedMStars, alignedMFrac, 1)\n",
    "MAlinFit = np.polyfit(MAMStars, MAMFrac, 1)\n",
    "alignedAr = [[6, 13],[6*WAlinFit[0] + WAlinFit[1], 13*WAlinFit[0] + WAlinFit[1]]]\n",
    "MAAr = [[6, 13],[6*MAlinFit[0] + MAlinFit[1], 13*MAlinFit[0] + MAlinFit[1]]]\n",
    "\n",
    "plt.figure(figsize=(18, 12))\n",
    "plt.xlim(7, 11.75)\n",
    "plt.ylim(-2.5, 2)\n",
    "plt.xlabel('Log $M_*$')\n",
    "plt.ylabel('Log $(M_{HI}/M_*)$')\n",
    "plt.scatter(alignedMStars, alignedMFrac, s=1)\n",
    "plt.scatter(MAMStars, MAMFrac, s=3)\n",
    "plt.plot(alignedAr[0], alignedAr[1])\n",
    "plt.plot(MAAr[0], MAAr[1])"
   ],
   "id": "2531d1c048092a1b",
   "outputs": [],
   "execution_count": null
  },
  {
   "metadata": {},
   "cell_type": "markdown",
   "source": "Interesting! It seems that misaligned galaxies actually have *less* gas than their well-aligned counterparts, which is not necessarily what we expect. Usually misalignment results from a recent accretion of new gas into the galaxy, gas which preserves its angular momentum therefore creating a misaligned gas disc. This suggests that the processes at play are more complicated than they appear, but we can make the trends more precise. Let's bin the data into segments. This binning code is modified from Patrick Wang (Haverford College '27).",
   "id": "5e436015353c1d4d"
  },
  {
   "metadata": {},
   "cell_type": "code",
   "source": [
    "alignedBin = scipy.stats.binned_statistic(alignedMStars, alignedMFrac, 'mean', bins=20)\n",
    "alignedXs = np.linspace(min(alignedMStars), max(alignedMStars), 20)\n",
    "\n",
    "MABin = scipy.stats.binned_statistic(MAMStars, MAMFrac, 'mean', bins=10)\n",
    "MAXs = np.linspace(min(MAMStars), max(MAMStars), 10)\n",
    "\n",
    "plt.figure(figsize=(18, 12))\n",
    "plt.xlim(7, 11.75)\n",
    "plt.ylim(-2.5, 2)\n",
    "plt.xlabel('Log $M_*$', fontsize=18)\n",
    "plt.ylabel('Log $(M_{HI}/M_*)$', fontsize=18)\n",
    "plt.title('Mass fraction vs. Stellar mass for Aligned vs. MA Gals', fontsize=18)\n",
    "plt.scatter(alignedMStars, alignedMFrac, s=1, color = 'tab:blue')\n",
    "plt.scatter(MAMStars, MAMFrac, s=15, color = 'darkorange', marker='^')\n",
    "\n",
    "plt.plot(alignedXs, alignedBin[0], lw=2, color = 'tab:blue')\n",
    "plt.plot(MAXs, MABin[0], lw=3, color = 'darkorange')"
   ],
   "id": "68b61019b03f7fab",
   "outputs": [],
   "execution_count": null
  },
  {
   "metadata": {},
   "cell_type": "markdown",
   "source": "We still haven't analyzed any of the upper limits with proper statistical methods, but by binning the data we can show a more robust difference between the two data sets than with a simple linear fit. We've confirmed that there is indeed a correlation between galaxies having position angle misalignment, and having a greater HI deficiency than an aligned galaxy with the same stellar mass.",
   "id": "2c0ca0b49680e7d4"
  },
  {
   "metadata": {},
   "cell_type": "markdown",
   "source": "The last thing we'll do with this data before statistically analyzing the upper limits with survival anlysis techniques is to divide the misaligned galaxies into various degrees of misalignment. Let's first make a plot of frequency vs misalignment in order to decide what cutoff of misalignment we will consider to be \"counter-rotating\"",
   "id": "4e228426a00adf00"
  },
  {
   "metadata": {},
   "cell_type": "code",
   "source": [
    "misalignedHA = []\n",
    "misalignedStel = []\n",
    "for gal in dataTable:\n",
    "    if str(gal['ang_ha']) != 'nan':\n",
    "        if gal['ang_ha'] > 180:\n",
    "            misalignedHA.append(360 - gal['ang_ha'])\n",
    "        else:\n",
    "            misalignedHA.append(gal['ang_ha'])\n",
    "        if gal['ang_stellar'] > 180:\n",
    "            misalignedStel.append(360 - gal['ang_stellar'])\n",
    "        else:\n",
    "            misalignedStel.append(gal['ang_stellar'])\n",
    "\n",
    "misalignedDelPA = []\n",
    "for i in range(len(misalignedHA)):\n",
    "    misalignedDelPA.append(abs(misalignedHA[i] - misalignedStel[i]))"
   ],
   "id": "d157b1a3bd2fe0b3",
   "outputs": [],
   "execution_count": null
  },
  {
   "metadata": {},
   "cell_type": "code",
   "source": [
    "plt.figure()\n",
    "plt.xlabel('$\\Delta$PA for misaligned galaxies')\n",
    "plt.ylabel('Frequency')\n",
    "plt.hist(misalignedDelPA, bins=80);"
   ],
   "id": "aa5064bd154f75bb",
   "outputs": [],
   "execution_count": null
  },
  {
   "metadata": {},
   "cell_type": "markdown",
   "source": "There's no abundantly clear division. For now, let's just take all the galaxies with a misalignment of at least 90 degrees as 'counter-rotating,' and plot that data with binned averages.",
   "id": "ddb6d90d0906f146"
  },
  {
   "metadata": {},
   "cell_type": "code",
   "source": [
    "counterMStel = []\n",
    "counterFrac = []\n",
    "\n",
    "for gal in dataTable:\n",
    "    angHa = 0\n",
    "    angStel = 0\n",
    "    if str(gal['ang_ha']) != 'nan':\n",
    "        if gal['ang_ha'] > 180:\n",
    "            angHa = 360 - gal['ang_ha']\n",
    "        else:\n",
    "            angHa = gal['ang_ha']\n",
    "        if gal['ang_stellar'] > 180:\n",
    "            angStel = 360 - gal['ang_stellar']\n",
    "        else:\n",
    "            angStel = gal['ang_stellar']\n",
    "    if abs(angHa - angStel) >= 90 and str(gal['LOGMSTARS']) != 'nan':\n",
    "        counterMStel.append(gal['LOGMSTARS'])\n",
    "        counterFrac.append(max(gal['LOGMHI'], gal['LOGHILIM200KMS']) - gal['LOGMSTARS'])"
   ],
   "id": "223f08f01df17ab4",
   "outputs": [],
   "execution_count": null
  },
  {
   "metadata": {},
   "cell_type": "code",
   "source": [
    "counterBin = scipy.stats.binned_statistic(counterMStel, counterFrac, 'mean', bins=10)\n",
    "counterXs = np.linspace(min(counterMStel), max(counterMStel), 10)\n",
    "\n",
    "plt.figure(figsize=(18, 12))\n",
    "plt.xlim(7, 11.75)\n",
    "plt.ylim(-2.5, 2)\n",
    "plt.xlabel('Log $M_*$', fontsize=18)\n",
    "plt.ylabel('Log $(M_{HI}/M_*)$', fontsize=18)\n",
    "plt.scatter(alignedMStars, alignedMFrac, s=1, color = 'tab:blue', label='Aligned galaxies')\n",
    "plt.scatter(MAMStars, MAMFrac, s=15, color = 'darkorange', marker='^', label = 'All misaligned galaxies')\n",
    "plt.scatter(counterMStel, counterFrac, s = 15, color = 'tab:red', marker = 'x', label = 'Misaligned galaxies ($\\Delta$PA ≥ 90$\\degree$)')\n",
    "\n",
    "plt.plot(alignedXs, alignedBin[0], lw=2, color = 'tab:blue')\n",
    "plt.plot(MAXs, MABin[0], lw=3, color = 'darkorange')\n",
    "plt.plot(counterXs, counterBin[0], lw = 3, color='tab:red')\n",
    "plt.legend(fontsize = 15)\n",
    "# plt.savefig('mFrac_vs_mStel_binned.png')"
   ],
   "id": "36f067bbc1c5e102",
   "outputs": [],
   "execution_count": null
  },
  {
   "metadata": {},
   "cell_type": "markdown",
   "source": "Seeing that the counter-rotating galaxies (somewhat arbitrarily chosen to be those with ∆PA ≥ 90 degrees) display similar trends to the misaligned galaxies as a whole, which is noteworthy, I will choose to consider all misaligned galaxies for the remainder of this notebook for the larger sample size.",
   "id": "949bc28e7f463620"
  },
  {
   "metadata": {},
   "cell_type": "code",
   "source": [
    "plt.xlim(7.75, 11.75)\n",
    "plt.ylim(-2, 2)\n",
    "plt.plot(alignedXs, alignedBin[0], color = 'tab:blue')\n",
    "plt.plot(MAXs, MABin[0], color = 'darkorange');"
   ],
   "id": "2ed04fdb1d0e2989",
   "outputs": [],
   "execution_count": null
  },
  {
   "metadata": {},
   "cell_type": "markdown",
   "source": "Interestingly, we see that the group of all misaligned galaxies and the counter-rotating galaxies have very similar HI deficiencies, rather than the counter rotators having a more pronounced HI deficiency than other, less misaligned galaxies. However, we have still established a clear trend of misaligned galaxies having higher HI deficiencies than their well-aligned counterparts at their given stellar masses.",
   "id": "390baaa759e4be15"
  },
  {
   "metadata": {},
   "cell_type": "markdown",
   "source": "To quantify this deficiency, we can plot the difference between the HI deficiencies of the aligned galaxies and the HI deficiencies of the mis-aligned galaxies. Seeing that the counter-rotating galaxies have fairly similar trends to the mis-aligned galaxies as a whole, we will use the latter set, since it gives us more data points with which to work.",
   "id": "f6ca027d75d4fe33"
  },
  {
   "metadata": {},
   "cell_type": "code",
   "source": [
    "MABinDiff = [0]*10 # array of binned differences in HI deficiencies (on average, how deficient are each stellar mass's misaligned galaxies compared to that stellar mass's well-aligned galaxies)\n",
    "limitedBin = []\n",
    "limitedXs = []\n",
    "\n",
    "for gal in dataTable:\n",
    "    if max(counterXs) >= gal['LOGMSTARS'] >= min(counterXs) and str(gal['plateifu_2']) == '' and (gal['LOGMHI'] > 0 or gal['LOGHILIM200KMS'] > 0):\n",
    "        limitedBin.append(max(gal['LOGMHI'], gal['LOGHILIM200KMS']) - gal['LOGMSTARS'])\n",
    "        limitedXs.append(gal['LOGMSTARS'])\n",
    "\n",
    "limitedAlignedBin = scipy.stats.binned_statistic(limitedXs, limitedBin, 'mean', bins=10)\n",
    "\n",
    "plt.plot(np.linspace(min(limitedXs), max(limitedXs), 10), limitedAlignedBin[0], color = 'tab:blue')\n",
    "\n",
    "for i in range(10):\n",
    "    MABinDiff[i] =  limitedAlignedBin[0][i] - MABin[0][i]\n",
    "\n",
    "#plt.plot(MAXs, MABinDiff);\n",
    "plt.plot(MAXs, MABin[0], lw = 3, color='tab:red');"
   ],
   "id": "ed368e72bfcfa28a",
   "outputs": [],
   "execution_count": null
  },
  {
   "metadata": {},
   "cell_type": "markdown",
   "source": "And we can normalize this plot, taking the difference between the two heights",
   "id": "370d47dc9b116158"
  },
  {
   "metadata": {},
   "cell_type": "code",
   "source": [
    "plt.xlim(8.75, 11.15)\n",
    "plt.plot(MAXs, MABinDiff, lw = 3, color='tab:red')\n",
    "plt.plot([5, 15], [0, 0], color = 'grey')\n",
    "plt.title('Discrepancy in mis-aligned HI gas deficiency (log scale)')\n",
    "plt.xlabel('Log $M_*$')\n",
    "plt.ylabel('Log $(M_{HI, Expected}/M_*)$ - Log $(M_{HI, MA}/M_*)$')"
   ],
   "id": "bdf5b09291650906",
   "outputs": [],
   "execution_count": null
  },
  {
   "metadata": {},
   "cell_type": "markdown",
   "source": "**\\*Check this math\\*:** We can convert this log scale to percentages to understand the significance of this data:",
   "id": "7e0bc54662bd8fd4"
  },
  {
   "metadata": {},
   "cell_type": "code",
   "source": [
    "plt.xlim(8.75, 11.15)\n",
    "\n",
    "MABinDiffPerc = [0]*10\n",
    "for i in range(10):\n",
    "    MABinDiffPerc[i] = 10**(-MABinDiff[i]) * 100\n",
    "\n",
    "plt.xlabel('Log $M_*$')\n",
    "plt.ylabel('% of expected gas found in MA gals')\n",
    "plt.title('Gas percentage vs. Stellar mass')\n",
    "plt.plot(MAXs, MABinDiffPerc, lw = 3, color='tab:red')\n",
    "\n",
    "\n",
    "plt.plot([5, 15], [0, 0], '--', color = 'grey')\n",
    "plt.plot([5,15], [100, 100], '--', color = 'grey')\n",
    "plt.plot([5,15], [80, 80], '--', color = 'grey')\n",
    "plt.plot([5,15], [60, 60], '--', color = 'grey')\n",
    "plt.plot([5,15], [40, 40], '--', color = 'grey')\n",
    "plt.plot([5,15], [20, 20], '--', color = 'grey')\n"
   ],
   "id": "b09d5494f7553e33",
   "outputs": [],
   "execution_count": null
  },
  {
   "metadata": {},
   "cell_type": "markdown",
   "source": "From this plot, we can see that misaligned galaxies can have 60-70% of the HI gas as we expect from a well-aligned galaxy at their given stellar mass, which is an extremely large difference.",
   "id": "a21b5a46529fcc2b"
  },
  {
   "metadata": {},
   "cell_type": "markdown",
   "source": "To take binned *medians*, with error bars, we will include upper limits as accepted values. The following code is again modified from Patrick Wang (HC '27)\n",
   "id": "6eb9cf3b8a86a461"
  },
  {
   "metadata": {},
   "cell_type": "code",
   "source": [
    "plt.xlim(8, 11.5)\n",
    "plt.ylim(-2.5, 2)\n",
    "\n",
    "Alignedmedians, Alignededgesmedian, Alignednummedian = scipy.stats.binned_statistic(alignedMStars,alignedMFrac,'median',bins=np.arange(8.5,11.5,0.25))\n",
    "Alignedstds, Alignededgesstd, Alignednumstd=scipy.stats.binned_statistic(alignedMStars,alignedMFrac,'std',bins=np.arange(8.5,11.5,0.25))\n",
    "\n",
    "MAmedians, MAedgesmedian, MAnummedian = scipy.stats.binned_statistic(MAMStars, MAMFrac, statistic = 'median', bins=np.arange(8.5,11.5,0.25))\n",
    "MAstds,MAedgesstd,MAnumstd=scipy.stats.binned_statistic(MAMStars,MAMFrac, statistic = 'std', bins=np.arange(8.5,11.5,0.25))\n",
    "\n",
    "plt.scatter(alignedMStars, alignedMFrac, marker = '*', color='tab:blue', alpha=0.15)\n",
    "plt.scatter(MAMStars, MAMFrac, marker = '*', color='tab:orange', alpha=0.15)\n",
    "\n",
    "#plotting binned data by using the edges of the bins\n",
    "plt.plot(Alignededgesmedian[:-1], Alignedmedians, ls='-', alpha=1, color='blue')\n",
    "plt.plot(MAedgesmedian[:-1], MAmedians, ls='-', alpha=1, color='orange')\n",
    "\n",
    "#highlighting the standard deviation of this binned data\n",
    "plt.fill_between(Alignededgesmedian[:-1],Alignedmedians-Alignedstds,Alignedmedians+Alignedstds,alpha=.8, color='darkblue', label='Aligned median')\n",
    "plt.fill_between(MAedgesmedian[:-1],MAmedians-MAstds,MAmedians+MAstds,alpha=.55, color='tab:orange', label='MA median')\n",
    "plt.legend()\n",
    "plt.xlabel('Log $M_*$')\n",
    "plt.ylabel('Log $(M_{HI}/M_*)$')\n",
    "plt.ylim(-2, 1.5)\n",
    "plt.xlim(8.25, 11.25)\n",
    "plt.show()"
   ],
   "id": "737bb29902f19f33",
   "outputs": [],
   "execution_count": null
  },
  {
   "metadata": {},
   "cell_type": "code",
   "source": [
    "medianMStel = []\n",
    "medianMFracDiff = []\n",
    "adjustedDiff = []\n",
    "\n",
    "for i in range(10):\n",
    "    if MAmedians[i] > -100:\n",
    "        medianMStel.append(Alignededgesmedian[:-1][i])\n",
    "        medianMFracDiff.append(Alignedmedians[i] - MAmedians[i])\n",
    "        adjustedDiff.append(100 * 10**(-1 * (Alignedmedians[i] - MAmedians[i])))\n"
   ],
   "id": "db472c7ab1768d36",
   "outputs": [],
   "execution_count": null
  },
  {
   "metadata": {},
   "cell_type": "code",
   "source": [
    "plt.plot(medianMStel, adjustedDiff, lw = 3, color='tab:red')\n",
    "plt.plot([5, 15], [0, 0], '--', color = 'grey')\n",
    "plt.plot([5,15], [100, 100], '--', color = 'grey')\n",
    "plt.plot([5,15], [80, 80], '--', color = 'grey')\n",
    "plt.plot([5,15], [60, 60], '--', color = 'grey')\n",
    "plt.plot([5,15], [40, 40], '--', color = 'grey')\n",
    "plt.plot([5,15], [20, 20], '--', color = 'grey')\n",
    "plt.xlim(8.5, 11)\n",
    "plt.title('Percentage of expected HI found (binned medians)')\n",
    "plt.xlabel('Log $M_*$')\n",
    "plt.ylabel('$M_{HI, MA}/M_{HI, Aligned}$ x 100', fontsize=14);"
   ],
   "id": "3b4fdb729a91767e",
   "outputs": [],
   "execution_count": null
  },
  {
   "metadata": {},
   "cell_type": "markdown",
   "source": "**Survival Analysis:** In order to do survival analysis, we'll need to first create new data sets corresponding to the detections vs upper limis (non-detections). The detections will have entries in the 'LOGMHI' column of the fits image (other than 'NaN' or -999), while the non-detections will have entries in the 'LOGLIMHI200KMS' column (other than 'NaN' or -999). Also, we've just shown a distinct but fluctuating HI deficiency in misaligned galaxies with binned data, but for purposes of survival analysis, we'll be using a simple linear fit (at least for now).",
   "id": "ec66e35c8cca6b3a"
  },
  {
   "metadata": {},
   "cell_type": "code",
   "source": [
    "WADetectionStel = []\n",
    "WADetectionFrac = []\n",
    "WALimStel = []\n",
    "WALimFrac = []\n",
    "\n",
    "MADetectionStel = []\n",
    "MADetectionFrac = []\n",
    "MALimStel = []\n",
    "MALimFrac = []\n",
    "\n",
    "for gal in dataTable:\n",
    "    if gal['LOGMSTARS'] > 0 and gal['LOGMHI'] > 0: # Well-defined gas mass\n",
    "        if gal['plateifu_2'] != '': # Misaligned, so has an entry from the misaligned galaxy fits file\n",
    "            MADetectionStel.append(gal['LOGMSTARS'])\n",
    "            MADetectionFrac.append(gal['LOGMHI'] - gal['LOGMSTARS'])\n",
    "        elif gal['plateifu_2'] == '': # Aligned, so does not\n",
    "            WADetectionStel.append(gal['LOGMSTARS'])\n",
    "            WADetectionFrac.append(gal['LOGMHI'] - gal['LOGMSTARS'])\n",
    "    elif gal['LOGMSTARS'] > 0 and gal['LOGHILIM200KMS'] > 0: # Upper limit/non-detection\n",
    "        if gal['plateifu_2'] != '': # Misaligned, so has an entry from the misaligned galaxy fits file\n",
    "            MALimStel.append(gal['LOGMSTARS'])\n",
    "            MALimFrac.append(gal['LOGHILIM200KMS'] - gal['LOGMSTARS'])\n",
    "        elif gal['plateifu_2'] == '': # Aligned, so does not\n",
    "            WALimStel.append(gal['LOGMSTARS'])\n",
    "            WALimFrac.append(gal['LOGHILIM200KMS'] - gal['LOGMSTARS'])"
   ],
   "id": "6d9aa444a2c506e5",
   "outputs": [],
   "execution_count": null
  },
  {
   "metadata": {},
   "cell_type": "code",
   "source": [
    "plt.figure(figsize=(18, 12))\n",
    "plt.scatter(MALimStel, MALimFrac, label = 'Upper Limits (Mis-aligned)', s=4, marker='d', color='darkorange')\n",
    "plt.scatter(MADetectionStel, MADetectionFrac, label = 'Detections (Mis-aligned)', s=8, color='blue')\n",
    "plt.scatter(WALimStel, WALimFrac, label = 'Upper Limits (Aligned)', s=4, marker='d', color='darkorange')\n",
    "plt.scatter(WADetectionStel, WADetectionFrac, label = 'Detections (Aligned)', s=8, color='blue')\n",
    "plt.xlim(7.75, 11.75)\n",
    "plt.ylim(-2, 2)\n",
    "plt.legend(fontsize=14)\n",
    "plt.xlabel('Log $M_*$', fontsize=16)\n",
    "plt.ylabel('Log $(M_{HI}/M_*)$', fontsize=16)\n",
    "plt.title('HI mass fraction for Upper Limits vs. Stellar Mass', fontsize=18);\n",
    "# plt.savefig('detectAndLim_with_alignedAndMA.png');"
   ],
   "id": "9cfabbf1e4f6a903",
   "outputs": [],
   "execution_count": null
  },
  {
   "metadata": {},
   "cell_type": "markdown",
   "source": "Using David Stark's survival analysis code, which wraps R statistical code for Python use, we can create a linear fits for the aligned galaxies (now performing statistical methods on this set which includes both detections and upper limits), and misaligned galaxies (similarly):",
   "id": "be6ae7f5c8abf1a8"
  },
  {
   "metadata": {},
   "cell_type": "markdown",
   "source": "**Caution**: This cell takes almost 6 minutes to run, so if the data has not changed, refer to next cell",
   "id": "63dd46c56d3a239d"
  },
  {
   "metadata": {},
   "cell_type": "code",
   "source": [
    "'''\n",
    "alignedComboMStars = np.ndarray(shape = len(alignedMStars)).astype(float)\n",
    "alignedComboMFrac = np.ndarray(shape = len(alignedMFrac)).astype(float)\n",
    "MAComboMStars = np.ndarray(shape = len(MAMStars)).astype(float)\n",
    "MAComboMFrac = np.ndarray(shape = len(MAMFrac)).astype(float)\n",
    "\n",
    "AlignedLims = np.ndarray(shape = len(alignedMStars)).astype(bool);\n",
    "MALims = np.ndarray(shape = len(MAMStars)).astype(bool);\n",
    "\n",
    "alignedGalInc = 0\n",
    "MAGalInc = 0\n",
    "\n",
    "alignedInc = 0\n",
    "MAInc = 0\n",
    "\n",
    "for gal in dataTable:\n",
    "    if gal['LOGMSTARS'] > 0 and max(gal['LOGMHI'], gal['LOGHILIM200KMS']) > 0 and gal['plateifu_2'] == '': # the misaligned galaxies will have values for this column, which was taken from the fits image of just misaligned galaxies, while the aligned galaxies will not\n",
    "        alignedComboMStars[alignedGalInc] = gal['LOGMSTARS']\n",
    "        alignedComboMFrac[alignedGalInc] = max(gal['LOGMHI'], gal['LOGHILIM200KMS']) - gal['LOGMSTARS']\n",
    "        if gal['LOGHILIM200KMS'] > 0: # If an upper limit\n",
    "            AlignedLims[alignedInc] = True\n",
    "        else:\n",
    "            AlignedLims[alignedInc] = False\n",
    "        alignedGalInc += 1\n",
    "        alignedInc += 1\n",
    "    if gal['LOGMSTARS'] > 0 and max(gal['LOGMHI'], gal['LOGHILIM200KMS']) > 0 and gal['plateifu_2'] != '':\n",
    "        MAComboMStars[MAGalInc] = gal['LOGMSTARS']\n",
    "        MAComboMFrac[MAGalInc] = max(gal['LOGMHI'], gal['LOGHILIM200KMS']) - gal['LOGMSTARS']\n",
    "        if gal['LOGHILIM200KMS'] > 0:\n",
    "            MALims[MAInc] = True\n",
    "        else:\n",
    "            MALims[MAInc] = False\n",
    "        MAGalInc += 1\n",
    "        MAInc += 1\n",
    "\n",
    "AlignedOut = ats_fit(alignedComboMStars, alignedComboMFrac, AlignedLims, fmt='(I4, 2F10.3)');\n",
    "MAOut = ats_fit(MAComboMStars, MAComboMFrac, MALims, fmt='(I4, 2F10.3)');\n",
    "\n",
    "\n",
    "np.save('Data/alignedComboMStars.npy', alignedComboMStars)\n",
    "np.save('Data/MAComboMStars.npy', MAComboMStars)\n",
    "np.save('Data/alignedComboMFrac.npy', alignedComboMFrac)\n",
    "np.save('Data/MAComboMFrac.npy', MAComboMFrac)\n",
    "np.save('Data/AlignedLims.npy', AlignedLims)\n",
    "np.save('Data/MALims.npy', MALims)\n",
    "np.save('Data/alignedOut.npy', AlignedOut)\n",
    "np.save('Data/MAOut.npy', MAOut)\n",
    "'''"
   ],
   "id": "c10dd01bd8f98ed1",
   "outputs": [],
   "execution_count": null
  },
  {
   "metadata": {},
   "cell_type": "code",
   "source": [
    "alignedComboMStars = np.load('Data/alignedComboMStars.npy', allow_pickle=True)\n",
    "MAComboMStars = np.load('Data/MAComboMStars.npy', allow_pickle=True)\n",
    "alignedComboMFrac = np.load('Data/alignedComboMFrac.npy', allow_pickle=True)\n",
    "MAComboMFrac = np.load('Data/MAComboMFrac.npy', allow_pickle=True)\n",
    "AlignedOut = np.load('Data/alignedOut.npy', allow_pickle=True)\n",
    "MAOut = np.load('Data/MAOut.npy', allow_pickle=True)\n",
    "AlignedLims = np.load('Data/AlignedLims.npy', allow_pickle=True)\n",
    "MALims = np.load('Data/MALims.npy', allow_pickle=True)"
   ],
   "id": "4721bbee817eb426",
   "outputs": [],
   "execution_count": null
  },
  {
   "metadata": {},
   "cell_type": "code",
   "source": [
    "fig = plt.figure(figsize=(18, 12))\n",
    "\n",
    "AlignedLimCol = 'blue'\n",
    "AlignedDetCol = 'blue'\n",
    "MALimCol = 'orange'\n",
    "MADetCol = 'orange'\n",
    "\n",
    "AlignedFitCol = 'cornflowerblue'\n",
    "MAFitCol = 'coral'\n",
    "\n",
    "# Upper limits:\n",
    "plt.scatter(alignedComboMStars[AlignedLims], alignedComboMFrac[AlignedLims], s = 8, marker='v', color = AlignedLimCol, alpha = 0.15)\n",
    "plt.scatter(MAComboMStars[MALims], MAComboMFrac[MALims], marker='v', s = 8, color = MALimCol)\n",
    "\n",
    "# Detections:\n",
    "plt.scatter(alignedComboMStars[~AlignedLims], alignedComboMFrac[~AlignedLims], s = 8, color = AlignedDetCol, alpha = 0.15)\n",
    "plt.scatter(MAComboMStars[~MALims], MAComboMFrac[~MALims], s = 8, color = MADetCol)\n",
    "\n",
    "pts = [8.5, 11]\n",
    "plt.plot(pts, [(pts[0] * AlignedOut.item(0)['slope']) + AlignedOut.item(0)['intercept'], (pts[1] * AlignedOut.item(0)['slope']) + AlignedOut.item(0)['intercept']], color = AlignedFitCol, lw = 4, label = 'Survival fit for aligned galaxies')\n",
    "plt.plot(pts, [(pts[0] * MAOut.item(0)['slope']) + MAOut.item(0)['intercept'], (pts[1] * MAOut.item(0)['slope']) + MAOut.item(0)['intercept']], color = MAFitCol, lw = 4, label = 'Survival fit for MA galaxies')\n",
    "\n",
    "plt.legend(fontsize=14)\n",
    "plt.xlim(7.5, 12)\n",
    "plt.ylim(-2.5, 2)\n",
    "plt.xlabel('Log $M_*$', fontsize=16)\n",
    "plt.ylabel('Log $(M_{HI}/M_*)$', fontsize=16)\n",
    "plt.title('HI mass fraction for aligned and misaligned galaxies vs. Stellar Mass, incorporating survival analysis on upper limits', fontsize=16);"
   ],
   "id": "2aa2b0ca2aef569d",
   "outputs": [],
   "execution_count": null
  },
  {
   "metadata": {},
   "cell_type": "code",
   "source": "print(10**(-1 * ((9.5 * AlignedOut.item(0)['slope'] + AlignedOut.item(0)['intercept']) - (9.5 * MAOut.item(0)['slope'] + MAOut.item(0)['intercept']))))",
   "id": "735604c1417542cd",
   "outputs": [],
   "execution_count": null
  },
  {
   "metadata": {},
   "cell_type": "markdown",
   "source": "This data provides an even more shocking result, as by this method we conclude that the misaligned galaxies trend at only 30% of the expected HI mass expected at a given stellar mass (based on the difference between the values of the lines at $M_*$ = 9.5 $M_{Sun}$).",
   "id": "976327cc265d3b8f"
  },
  {
   "metadata": {},
   "cell_type": "code",
   "source": [
    "'''\n",
    "# Upper limits:\n",
    "plt.scatter(alignedComboMStars[AlignedLims], alignedComboMFrac[AlignedLims], s = 8, marker='v', color = AlignedLimCol, alpha = 0.15);\n",
    "plt.scatter(MAComboMStars[MALims], MAComboMFrac[MALims], marker='v', s = 8, color = MALimCol);\n",
    "\n",
    "# Detections:\n",
    "plt.scatter(alignedComboMStars[~AlignedLims], alignedComboMFrac[~AlignedLims], s = 8, color = AlignedDetCol, alpha = 0.15);\n",
    "plt.scatter(MAComboMStars[~MALims], MAComboMFrac[~MALims], s = 8, color = MADetCol);\n",
    "'''\n",
    "print('Aligned detection count: ', len(alignedComboMStars[~AlignedLims]))\n",
    "print('Aligned upper limit count: ', len(alignedComboMStars[AlignedLims]))\n",
    "\n",
    "print('\\nMA detection count: ', len(MAComboMStars[~MALims]))\n",
    "print('MA upper limit count: ', len(MAComboMStars[MALims]))"
   ],
   "id": "77e0ff46a25f5803",
   "outputs": [],
   "execution_count": null
  },
  {
   "metadata": {},
   "cell_type": "markdown",
   "source": "Unfortunately, we see that these sets are ≥ 50% non-detections, so this survival anlysis method will not necessarily provide us with reasonable or accurate results. Still, there are other statistical methods we can apply to this data to account for the presence of upper limits.",
   "id": "f5e58912006c8c42"
  },
  {
   "metadata": {},
   "cell_type": "markdown",
   "source": "First, however, we can investigate if we can derive useful data for this survival analysis method for smaller selections of stellar mass. That is, if the upper limits skew towards higher stellar mass galaxies, then we can draw conclusions about the amount of expected HI found in misaligned galaxies within a more restricted (lower) stellar mass range.",
   "id": "13367e99e7c67428"
  },
  {
   "metadata": {},
   "cell_type": "code",
   "source": [
    "'''\n",
    "Data:\n",
    "Aligned upper limits: alignedComboMStars[AlignedLims]\n",
    "Aligned detections: alignedComboMStars[~AlignedLims]\n",
    "\n",
    "MA upper limits: MAComboMStars[MALims]\n",
    "MA detections: MAComboMStars[~MALims]\n",
    "'''\n",
    "\n",
    "Bins = np.arange(8, 11.5, 0.2)\n",
    "\n",
    "# Co-plotted histogram for frequency of misaligned gal detections vs. stellar mass and frequency of misaligned upper limits vs. stellar mass\n",
    "plt.hist(MAComboMStars[MALims], alpha = 0.5, label = 'Misaligned limits', bins = Bins, color = 'coral')\n",
    "plt.hist(MAComboMStars[~MALims], alpha = 0.5, label = 'Misaligned detections', bins = Bins, color = 'cornflowerblue')\n",
    "plt.legend()\n",
    "plt.xlim(7.5, 12)\n",
    "plt.ylabel('Frequency')\n",
    "plt.xlabel('log($M_*$/$M_{sun}$)')\n",
    "plt.show()\n",
    "\n",
    "# and co-plotted histogram for frequency of aligned detections vs. stellar mass and frequency of aligned upper limits vs stellar mass\n",
    "plt.hist(alignedComboMStars[AlignedLims], alpha = 0.5, label = 'Aligned limits', bins = Bins, color = 'coral')\n",
    "plt.hist(alignedComboMStars[~AlignedLims], alpha = 0.5, label = 'Aligned detections', bins = Bins, color = 'cornflowerblue')\n",
    "plt.legend()\n",
    "plt.xlim(7.5, 12)\n",
    "plt.ylabel('Frequency')\n",
    "plt.xlabel('log($M_*$/$M_{sun}$)')\n",
    "plt.show()"
   ],
   "id": "3327ff7357db3799",
   "outputs": [],
   "execution_count": null
  },
  {
   "metadata": {},
   "cell_type": "markdown",
   "source": "Now to introduce the Kaplan-Meier test to produce cumulative distribution functions (CDFs) for the populations:",
   "id": "e8efb011898b0e61"
  },
  {
   "metadata": {},
   "cell_type": "code",
   "source": [
    "alignedKM = kaplan_meier(alignedComboMFrac, AlignedLims)\n",
    "MAKM = kaplan_meier(MAComboMFrac, MALims)"
   ],
   "id": "9351c40807cc3be7",
   "outputs": [],
   "execution_count": null
  },
  {
   "metadata": {},
   "cell_type": "code",
   "source": [
    "plt.plot(alignedKM['km']['x'], alignedKM['km']['surv'], label = 'Aligned CDF', color = 'cornflowerblue')\n",
    "plt.plot(MAKM['km']['x'], MAKM['km']['surv'], label = 'MA CDF', color = 'coral')\n",
    "plt.xlabel('log($M_{HI}$/$M_*$)')\n",
    "plt.ylabel('Cumulative probability of survival')\n",
    "plt.title('Kaplan-Meier fits')\n",
    "plt.legend()\n",
    "plt.show()"
   ],
   "id": "a56c14ea7b182bbb",
   "outputs": [],
   "execution_count": null
  }
 ],
 "metadata": {
  "kernelspec": {
   "display_name": "Python 3 (ipykernel)",
   "language": "python",
   "name": "python3"
  },
  "language_info": {
   "codemirror_mode": {
    "name": "ipython",
    "version": 3
   },
   "file_extension": ".py",
   "mimetype": "text/x-python",
   "name": "python",
   "nbconvert_exporter": "python",
   "pygments_lexer": "ipython3",
   "version": "3.9.6"
  }
 },
 "nbformat": 4,
 "nbformat_minor": 5
}
