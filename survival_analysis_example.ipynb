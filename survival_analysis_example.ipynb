{
 "cells": [
  {
   "cell_type": "code",
   "metadata": {
    "ExecuteTime": {
     "end_time": "2025-01-27T20:43:51.204345Z",
     "start_time": "2025-01-27T20:43:50.478946Z"
    }
   },
   "source": [
    "'''\n",
    "import os\n",
    "os.chdir('/Users/harrisonwest/documents/GitHub/HI-MaNGA')\n",
    "print(os.getcwd())\n",
    "'''\n",
    "\n",
    "from survival_analysis import setup, ats_fit, kaplan_meier\n",
    "import numpy as np\n",
    "import matplotlib.pyplot as plt"
   ],
   "outputs": [],
   "execution_count": 1
  },
  {
   "cell_type": "code",
   "metadata": {
    "ExecuteTime": {
     "end_time": "2025-01-27T20:43:55.366591Z",
     "start_time": "2025-01-27T20:43:54.213353Z"
    }
   },
   "source": [
    "setup()"
   ],
   "outputs": [
    {
     "name": "stderr",
     "output_type": "stream",
     "text": [
      "R[write to console]: Warning in (function (pkgs, lib, repos = getOption(\"repos\"), contriburl = contrib.url(repos,  :\n",
      "R[write to console]: \n",
      " \n",
      "R[write to console]:  'lib = \"http://cran.us.r-project.org\"' is not writable\n",
      "\n",
      "R[write to console]: Error in (function (pkgs, lib, repos = getOption(\"repos\"), contriburl = contrib.url(repos,  : \n",
      "  unable to install packages\n",
      "\n"
     ]
    },
    {
     "ename": "RRuntimeError",
     "evalue": "Error in (function (pkgs, lib, repos = getOption(\"repos\"), contriburl = contrib.url(repos,  : \n  unable to install packages\n",
     "output_type": "error",
     "traceback": [
      "\u001B[0;31m---------------------------------------------------------------------------\u001B[0m",
      "\u001B[0;31mRRuntimeError\u001B[0m                             Traceback (most recent call last)",
      "Cell \u001B[0;32mIn[2], line 1\u001B[0m\n\u001B[0;32m----> 1\u001B[0m \u001B[43msetup\u001B[49m\u001B[43m(\u001B[49m\u001B[43m)\u001B[49m\n",
      "File \u001B[0;32m~/Documents/GitHub/HI-MaNGA/survival_analysis.py:27\u001B[0m, in \u001B[0;36msetup\u001B[0;34m()\u001B[0m\n\u001B[1;32m     25\u001B[0m packages \u001B[38;5;241m=\u001B[39m [\u001B[38;5;124m'\u001B[39m\u001B[38;5;124msurvival\u001B[39m\u001B[38;5;124m'\u001B[39m, \u001B[38;5;124m'\u001B[39m\u001B[38;5;124mNADA\u001B[39m\u001B[38;5;124m'\u001B[39m, \u001B[38;5;124m'\u001B[39m\u001B[38;5;124mstats\u001B[39m\u001B[38;5;124m'\u001B[39m]\n\u001B[1;32m     26\u001B[0m \u001B[38;5;28;01mfor\u001B[39;00m p \u001B[38;5;129;01min\u001B[39;00m packages:\n\u001B[0;32m---> 27\u001B[0m     \u001B[43mutils\u001B[49m\u001B[38;5;241;43m.\u001B[39;49m\u001B[43minstall_packages\u001B[49m\u001B[43m(\u001B[49m\u001B[43mp\u001B[49m\u001B[43m,\u001B[49m\u001B[43m \u001B[49m\u001B[38;5;124;43m\"\u001B[39;49m\u001B[38;5;124;43mhttp://cran.us.r-project.org\u001B[39;49m\u001B[38;5;124;43m\"\u001B[39;49m\u001B[43m)\u001B[49m\n",
      "File \u001B[0;32m/Library/Python/3.9/site-packages/rpy2/robjects/functions.py:191\u001B[0m, in \u001B[0;36mSignatureTranslatedFunction.__call__\u001B[0;34m(self, *args, **kwargs)\u001B[0m\n\u001B[1;32m    189\u001B[0m         v \u001B[38;5;241m=\u001B[39m kwargs\u001B[38;5;241m.\u001B[39mpop(k)\n\u001B[1;32m    190\u001B[0m         kwargs[r_k] \u001B[38;5;241m=\u001B[39m v\n\u001B[0;32m--> 191\u001B[0m \u001B[38;5;28;01mreturn\u001B[39;00m (\u001B[38;5;28;43msuper\u001B[39;49m\u001B[43m(\u001B[49m\u001B[43mSignatureTranslatedFunction\u001B[49m\u001B[43m,\u001B[49m\u001B[43m \u001B[49m\u001B[38;5;28;43mself\u001B[39;49m\u001B[43m)\u001B[49m\n\u001B[1;32m    192\u001B[0m \u001B[43m        \u001B[49m\u001B[38;5;241;43m.\u001B[39;49m\u001B[38;5;21;43m__call__\u001B[39;49m\u001B[43m(\u001B[49m\u001B[38;5;241;43m*\u001B[39;49m\u001B[43margs\u001B[49m\u001B[43m,\u001B[49m\u001B[43m \u001B[49m\u001B[38;5;241;43m*\u001B[39;49m\u001B[38;5;241;43m*\u001B[39;49m\u001B[43mkwargs\u001B[49m\u001B[43m)\u001B[49m)\n",
      "File \u001B[0;32m/Library/Python/3.9/site-packages/rpy2/robjects/functions.py:121\u001B[0m, in \u001B[0;36mFunction.__call__\u001B[0;34m(self, *args, **kwargs)\u001B[0m\n\u001B[1;32m    119\u001B[0m     \u001B[38;5;28;01melse\u001B[39;00m:\n\u001B[1;32m    120\u001B[0m         new_kwargs[k] \u001B[38;5;241m=\u001B[39m conversion\u001B[38;5;241m.\u001B[39mpy2rpy(v)\n\u001B[0;32m--> 121\u001B[0m res \u001B[38;5;241m=\u001B[39m \u001B[38;5;28;43msuper\u001B[39;49m\u001B[43m(\u001B[49m\u001B[43mFunction\u001B[49m\u001B[43m,\u001B[49m\u001B[43m \u001B[49m\u001B[38;5;28;43mself\u001B[39;49m\u001B[43m)\u001B[49m\u001B[38;5;241;43m.\u001B[39;49m\u001B[38;5;21;43m__call__\u001B[39;49m\u001B[43m(\u001B[49m\u001B[38;5;241;43m*\u001B[39;49m\u001B[43mnew_args\u001B[49m\u001B[43m,\u001B[49m\u001B[43m \u001B[49m\u001B[38;5;241;43m*\u001B[39;49m\u001B[38;5;241;43m*\u001B[39;49m\u001B[43mnew_kwargs\u001B[49m\u001B[43m)\u001B[49m\n\u001B[1;32m    122\u001B[0m res \u001B[38;5;241m=\u001B[39m conversion\u001B[38;5;241m.\u001B[39mrpy2py(res)\n\u001B[1;32m    123\u001B[0m \u001B[38;5;28;01mreturn\u001B[39;00m res\n",
      "File \u001B[0;32m/Library/Python/3.9/site-packages/rpy2/rinterface_lib/conversion.py:28\u001B[0m, in \u001B[0;36m_cdata_res_to_rinterface.<locals>._\u001B[0;34m(*args, **kwargs)\u001B[0m\n\u001B[1;32m     27\u001B[0m \u001B[38;5;28;01mdef\u001B[39;00m\u001B[38;5;250m \u001B[39m\u001B[38;5;21m_\u001B[39m(\u001B[38;5;241m*\u001B[39margs, \u001B[38;5;241m*\u001B[39m\u001B[38;5;241m*\u001B[39mkwargs):\n\u001B[0;32m---> 28\u001B[0m     cdata \u001B[38;5;241m=\u001B[39m \u001B[43mfunction\u001B[49m\u001B[43m(\u001B[49m\u001B[38;5;241;43m*\u001B[39;49m\u001B[43margs\u001B[49m\u001B[43m,\u001B[49m\u001B[43m \u001B[49m\u001B[38;5;241;43m*\u001B[39;49m\u001B[38;5;241;43m*\u001B[39;49m\u001B[43mkwargs\u001B[49m\u001B[43m)\u001B[49m\n\u001B[1;32m     29\u001B[0m     \u001B[38;5;66;03m# TODO: test cdata is of the expected CType\u001B[39;00m\n\u001B[1;32m     30\u001B[0m     \u001B[38;5;28;01mreturn\u001B[39;00m _cdata_to_rinterface(cdata)\n",
      "File \u001B[0;32m/Library/Python/3.9/site-packages/rpy2/rinterface.py:785\u001B[0m, in \u001B[0;36mSexpClosure.__call__\u001B[0;34m(self, *args, **kwargs)\u001B[0m\n\u001B[1;32m    779\u001B[0m     res \u001B[38;5;241m=\u001B[39m rmemory\u001B[38;5;241m.\u001B[39mprotect(\n\u001B[1;32m    780\u001B[0m         openrlib\u001B[38;5;241m.\u001B[39mrlib\u001B[38;5;241m.\u001B[39mR_tryEval(\n\u001B[1;32m    781\u001B[0m             call_r,\n\u001B[1;32m    782\u001B[0m             embedded\u001B[38;5;241m.\u001B[39mglobalenv\u001B[38;5;241m.\u001B[39m__sexp__\u001B[38;5;241m.\u001B[39m_cdata,\n\u001B[1;32m    783\u001B[0m             error_occured))\n\u001B[1;32m    784\u001B[0m     \u001B[38;5;28;01mif\u001B[39;00m error_occured[\u001B[38;5;241m0\u001B[39m]:\n\u001B[0;32m--> 785\u001B[0m         \u001B[38;5;28;01mraise\u001B[39;00m embedded\u001B[38;5;241m.\u001B[39mRRuntimeError(_rinterface\u001B[38;5;241m.\u001B[39m_geterrmessage())\n\u001B[1;32m    786\u001B[0m \u001B[38;5;28;01mreturn\u001B[39;00m res\n",
      "\u001B[0;31mRRuntimeError\u001B[0m: Error in (function (pkgs, lib, repos = getOption(\"repos\"), contriburl = contrib.url(repos,  : \n  unable to install packages\n"
     ]
    }
   ],
   "execution_count": 2
  },
  {
   "cell_type": "code",
   "metadata": {},
   "source": [
    "#let's make some fake data\n",
    "x = np.random.uniform(size=100)\n",
    "y = 5 + (3 * x) + np.random.uniform(size=100)\n",
    "\n",
    "# set ~30% to be upper limits in y\n",
    "lims = np.zeros(len(x)).astype(bool)\n",
    "lims[np.random.choice(np.arange(len(lims)), size=int(0.3*len(lims)))] = True\n",
    "\n",
    "\n",
    "fig, ax = plt.subplots()\n",
    "ax.scatter(x[~lims],y[~lims])\n",
    "ax.scatter(x[lims], y[lims], marker='v')\n",
    "\n",
    "out = ats_fit(x,y,lims,fmt='(I4, 2F10.3)')\n",
    "out"
   ],
   "outputs": [],
   "execution_count": null
  },
  {
   "cell_type": "code",
   "metadata": {},
   "source": [],
   "outputs": [],
   "execution_count": null
  }
 ],
 "metadata": {
  "kernelspec": {
   "display_name": "base",
   "language": "python",
   "name": "python3"
  },
  "language_info": {
   "codemirror_mode": {
    "name": "ipython",
    "version": 3
   },
   "file_extension": ".py",
   "mimetype": "text/x-python",
   "name": "python",
   "nbconvert_exporter": "python",
   "pygments_lexer": "ipython3",
   "version": "3.9.7"
  }
 },
 "nbformat": 4,
 "nbformat_minor": 2
}
