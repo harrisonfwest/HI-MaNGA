{
 "cells": [
  {
   "cell_type": "code",
   "metadata": {
    "ExecuteTime": {
     "end_time": "2025-01-27T20:54:46.787459Z",
     "start_time": "2025-01-27T20:54:46.096682Z"
    }
   },
   "source": [
    "'''\n",
    "import os\n",
    "os.chdir('/Users/harrisonwest/documents/GitHub/HI-MaNGA')\n",
    "print(os.getcwd())\n",
    "'''\n",
    "\n",
    "from survival_analysis import setup, ats_fit, kaplan_meier\n",
    "import numpy as np\n",
    "import matplotlib.pyplot as plt"
   ],
   "outputs": [],
   "execution_count": 1
  },
  {
   "cell_type": "code",
   "metadata": {
    "ExecuteTime": {
     "end_time": "2025-01-27T20:54:52.653413Z",
     "start_time": "2025-01-27T20:54:47.629006Z"
    }
   },
   "source": [
    "setup()"
   ],
   "outputs": [
    {
     "name": "stderr",
     "output_type": "stream",
     "text": [
      "R[write to console]: Warning:\n",
      "R[write to console]:  unable to access index for repository https://cran.r-project.org/package=survival:\n",
      "  cannot open URL 'https://cran.r-project.org/package=survival/PACKAGES'\n",
      "\n",
      "R[write to console]: Warning:\n",
      "R[write to console]:  unable to access index for repository https://cran.r-project.org/package=NADA:\n",
      "  cannot open URL 'https://cran.r-project.org/package=NADA/PACKAGES'\n",
      "\n",
      "R[write to console]: Warning:\n",
      "R[write to console]:  unable to access index for repository https://cran.r-project.org/package=stats:\n",
      "  cannot open URL 'https://cran.r-project.org/package=stats/PACKAGES'\n",
      "\n"
     ]
    }
   ],
   "execution_count": 2
  },
  {
   "cell_type": "code",
   "metadata": {},
   "source": [
    "#let's make some fake data\n",
    "x = np.random.uniform(size=100)\n",
    "y = 5 + (3 * x) + np.random.uniform(size=100)\n",
    "\n",
    "# set ~30% to be upper limits in y\n",
    "lims = np.zeros(len(x)).astype(bool)\n",
    "lims[np.random.choice(np.arange(len(lims)), size=int(0.3*len(lims)))] = True\n",
    "\n",
    "\n",
    "fig, ax = plt.subplots()\n",
    "ax.scatter(x[~lims],y[~lims])\n",
    "ax.scatter(x[lims], y[lims], marker='v')\n",
    "\n",
    "out = ats_fit(x,y,lims,fmt='(I4, 2F10.3)')\n",
    "out"
   ],
   "outputs": [],
   "execution_count": null
  },
  {
   "cell_type": "code",
   "metadata": {},
   "source": [],
   "outputs": [],
   "execution_count": null
  }
 ],
 "metadata": {
  "kernelspec": {
   "display_name": "base",
   "language": "python",
   "name": "python3"
  },
  "language_info": {
   "codemirror_mode": {
    "name": "ipython",
    "version": 3
   },
   "file_extension": ".py",
   "mimetype": "text/x-python",
   "name": "python",
   "nbconvert_exporter": "python",
   "pygments_lexer": "ipython3",
   "version": "3.9.7"
  }
 },
 "nbformat": 4,
 "nbformat_minor": 2
}
