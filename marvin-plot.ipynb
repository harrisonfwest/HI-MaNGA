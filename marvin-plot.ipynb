{
 "cells": [
  {
   "cell_type": "code",
   "execution_count": 7,
   "id": "df5a4723",
   "metadata": {},
   "outputs": [
    {
     "ename": "ImportError",
     "evalue": "cannot import name 'Maps' from 'marvin.tools' (/opt/anaconda3/lib/python3.12/site-packages/marvin/tools/__init__.py)",
     "output_type": "error",
     "traceback": [
      "\u001b[0;31m---------------------------------------------------------------------------\u001b[0m",
      "\u001b[0;31mImportError\u001b[0m                               Traceback (most recent call last)",
      "Cell \u001b[0;32mIn[7], line 15\u001b[0m\n\u001b[1;32m     13\u001b[0m \u001b[38;5;28;01mimport\u001b[39;00m \u001b[38;5;21;01mmatplotlib\u001b[39;00m\u001b[38;5;21;01m.\u001b[39;00m\u001b[38;5;21;01mgridspec\u001b[39;00m \u001b[38;5;28;01mas\u001b[39;00m \u001b[38;5;21;01mgridspec\u001b[39;00m\n\u001b[1;32m     14\u001b[0m \u001b[38;5;66;03m# from marvin.tools.image import Image\u001b[39;00m\n\u001b[0;32m---> 15\u001b[0m \u001b[38;5;28;01mfrom\u001b[39;00m \u001b[38;5;21;01mmarvin\u001b[39;00m\u001b[38;5;21;01m.\u001b[39;00m\u001b[38;5;21;01mtools\u001b[39;00m \u001b[38;5;28;01mimport\u001b[39;00m Maps\n",
      "\u001b[0;31mImportError\u001b[0m: cannot import name 'Maps' from 'marvin.tools' (/opt/anaconda3/lib/python3.12/site-packages/marvin/tools/__init__.py)"
     ]
    }
   ],
   "source": [
    "import numpy as np\n",
    "np.set_printoptions(threshold=np.inf)\n",
    "from astropy.io import fits\n",
    "from astropy.table import Table\n",
    "import scipy\n",
    "import matplotlib.pyplot as plt\n",
    "\n",
    "# %pip install fortranformat\n",
    "# %pip install rpy2\n",
    "# %pip install marvin\n",
    "from survival_analysis import setup, ats_fit, kaplan_meier\n",
    "\n",
    "import matplotlib.gridspec as gridspec\n",
    "# from marvin.tools.image import Image\n",
    "from marvin.tools import Maps"
   ]
  },
  {
   "cell_type": "code",
   "execution_count": 5,
   "id": "2e266966",
   "metadata": {},
   "outputs": [
    {
     "ename": "NameError",
     "evalue": "name 'Maps' is not defined",
     "output_type": "error",
     "traceback": [
      "\u001b[0;31m---------------------------------------------------------------------------\u001b[0m",
      "\u001b[0;31mNameError\u001b[0m                                 Traceback (most recent call last)",
      "Cell \u001b[0;32mIn[5], line 19\u001b[0m\n\u001b[1;32m     16\u001b[0m \u001b[38;5;28;01mif\u001b[39;00m galaxy\u001b[38;5;241m==\u001b[39m\u001b[38;5;124m'\u001b[39m\u001b[38;5;124m10220-12705\u001b[39m\u001b[38;5;124m'\u001b[39m: i\u001b[38;5;241m=\u001b[39m\u001b[38;5;241m1\u001b[39m\n\u001b[1;32m     17\u001b[0m \u001b[38;5;28;01mif\u001b[39;00m galaxy\u001b[38;5;241m==\u001b[39m\u001b[38;5;124m'\u001b[39m\u001b[38;5;124m12512-9102\u001b[39m\u001b[38;5;124m'\u001b[39m: i\u001b[38;5;241m=\u001b[39m\u001b[38;5;241m2\u001b[39m\n\u001b[0;32m---> 19\u001b[0m maps \u001b[38;5;241m=\u001b[39m \u001b[43mMaps\u001b[49m(galaxy)\n\u001b[1;32m     20\u001b[0m image \u001b[38;5;241m=\u001b[39m Image(plateifu\u001b[38;5;241m=\u001b[39mgalaxy)\n\u001b[1;32m     23\u001b[0m \u001b[38;5;28mprint\u001b[39m(\u001b[38;5;124m'\u001b[39m\u001b[38;5;124mMaNGA galaxy of the day. An image and three MaNGA maps of MaNGA-ID=\u001b[39m\u001b[38;5;132;01m{}\u001b[39;00m\u001b[38;5;124m.\u001b[39m\u001b[38;5;124m'\u001b[39m\u001b[38;5;241m.\u001b[39mformat(galaxy\u001b[38;5;241m.\u001b[39mstrip()))\n",
      "\u001b[0;31mNameError\u001b[0m: name 'Maps' is not defined"
     ]
    }
   ],
   "source": [
    "CustomText=['The maps and image together show the location and motions of stars and ionized gas in the galaxy, and represent just a handful of the information MaNGA obtains for each galaxy.',\n",
    "            'This galaxy, picked by @KarenLMasters, has a strong spiral arm feature in both the image and ionised gas, revealing star formation in the arms.',\n",
    "             'This galaxy, picked by @KarenLMasters, has a gas velocity field which looks like the peace symbol.']\n",
    "\n",
    "#galaxy='10220-12702'\n",
    "#galaxy='8329-1901'\n",
    "#galaxy = '12512-9102'\n",
    "#galaxy = '8612-12702'\n",
    "#galaxy = '11977-12703'\n",
    "#galaxy = '9863-12704'\n",
    "#galaxy = '9000-12705'\n",
    "#galaxy = '11755-12703'#1-258538\n",
    "# galaxy = '12491-12704'\n",
    "galaxy = '8446-1902'\n",
    "i=0\n",
    "if galaxy=='10220-12705': i=1\n",
    "if galaxy=='12512-9102': i=2\n",
    "    \n",
    "maps = Maps(galaxy)\n",
    "image = Image(plateifu=galaxy)\n",
    "\n",
    "\n",
    "print('MaNGA galaxy of the day. An image and three MaNGA maps of MaNGA-ID={}.'.format(galaxy.strip()))\n",
    "print(CustomText[i])\n",
    "print('https://dr17.sdss.org/marvin/galaxy/{}/'.format(galaxy.strip()))\n",
    "\n",
    "print('ALT: Four views of galaxy MaNGA-ID={}. (1) SDSS image which usually shows blue/orange blobs on a black background, over which is a magenta hexagon, showing the region of sky in the other three plots. The axes are Right Ascension, and Declination which are the sky coordinates. (2) Plot title: ‘Ionized gas (Halpha) flux’ which usually shows a roughly hexagonal blue/green area in a gray box. The axes are labeled ‘spaxel’ (spatial pixel). There is a color bar at right which shows the scale to convert from the blue/green colors to flux in units of 1e-17 ergs/spaxel/cm^2. This is custom made for each specific galaxy. (3) Plot title: ‘Stellar Velocity’ and (4) ‘Ionized gas (Halpha) velocity’ are both (usually) red/blue rough hexagons in gray boxes. Both have ‘spaxel’ labels on the axes, and a color-bar to convert from color in the image to positive (red) or negative (blue) velocities in km/s.'.format(galaxy.strip()))\n",
    "\n",
    "#List of map names to select from\n",
    "mapname = ['emline_gflux_halpha','stellar_vel', 'stellar_sigma', 'emline_gvel_halpha', 'specindex_dn4000', 'specindex_mgb']\n",
    "\n",
    "#Selection of three maps to show\n",
    "i=0 #Ionized gas (Halpha) flux\n",
    "j=1 #Stellar velocity\n",
    "k=3 #Ionized gas (Halpha) velocity\n",
    "#i=2 #Stellar sigma\n",
    "#i=4 #Dn4000\n",
    "#k=5 #Mgb index\n",
    "\n",
    "# Set up the Multiplot.\n",
    "fig = plt.figure(figsize=(12, 9))\n",
    "gs = gridspec.GridSpec(2, 2, wspace=0.1, hspace=0.25)\n",
    "\n",
    "#Plot the image\n",
    "ax0 = plt.subplot(gs[0, 0], projection=image.wcs)\n",
    "ax0.imshow(image.data)\n",
    "ax0.set_xlabel('Right Ascension')\n",
    "ax0.set_ylabel('Declination')\n",
    "ax0.set_title('Optical gri image')\n",
    "ax0.grid(visible='None')\n",
    "\n",
    "#Plot three maps\n",
    "ax1=plt.subplot(gs[0, 1])\n",
    "maps[mapname[i]].plot(ax=ax1, fig=fig, title=r'Ionized gas (H$_\\alpha$) flux')\n",
    "#maps[mapname[i]].plot(ax=ax1, fig=fig, title=r'Dn4000 Index')\n",
    "\n",
    "ax2 = plt.subplot(gs[1, 0])\n",
    "maps[mapname[j]].plot(fig=fig, ax=ax2)\n",
    "\n",
    "ax3 = plt.subplot(gs[1, 1])\n",
    "maps[mapname[k]].plot(ax=ax3, fig=fig , title=r'Ionized gas (H$_\\alpha$) velocity')\n",
    "#maps[mapname[k]].plot(ax=ax3, fig=fig , title=r'Mgb Index')"
   ]
  },
  {
   "cell_type": "code",
   "execution_count": null,
   "id": "d757512e",
   "metadata": {},
   "outputs": [],
   "source": []
  }
 ],
 "metadata": {
  "kernelspec": {
   "display_name": "base",
   "language": "python",
   "name": "python3"
  },
  "language_info": {
   "codemirror_mode": {
    "name": "ipython",
    "version": 3
   },
   "file_extension": ".py",
   "mimetype": "text/x-python",
   "name": "python",
   "nbconvert_exporter": "python",
   "pygments_lexer": "ipython3",
   "version": "3.12.7"
  }
 },
 "nbformat": 4,
 "nbformat_minor": 5
}
